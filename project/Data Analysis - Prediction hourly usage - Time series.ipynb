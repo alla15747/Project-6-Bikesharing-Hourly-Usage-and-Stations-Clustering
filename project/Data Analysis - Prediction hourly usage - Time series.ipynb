{
 "cells": [
  {
   "cell_type": "markdown",
   "metadata": {},
   "source": [
    "# Prediction of hourly bike usage for a bike station"
   ]
  },
  {
   "cell_type": "markdown",
   "metadata": {},
   "source": [
    "The analysis of the hourly bike usage for a specific bike station with a high traffic volume (bike station number 31245) will be performed. From this analysis a prediction of the future bike usage per hour will be done.\n",
    "\n",
    "The analysis will first focus on the bikes that leave the bike station."
   ]
  },
  {
   "cell_type": "code",
   "execution_count": 32,
   "metadata": {},
   "outputs": [],
   "source": [
    "# import libraries\n",
    "import pandas as pd\n",
    "import numpy as np\n",
    "import seaborn as sns\n",
    "import matplotlib.pyplot as plt\n",
    "from datetime import datetime"
   ]
  },
  {
   "cell_type": "markdown",
   "metadata": {},
   "source": [
    "## Prepare the data for analysis"
   ]
  },
  {
   "cell_type": "markdown",
   "metadata": {},
   "source": [
    "The data is prepared for analysis by making sure every column has got the right type. Some new columns are added like the hour and the day for the start of each bike usage."
   ]
  },
  {
   "cell_type": "code",
   "execution_count": 2,
   "metadata": {},
   "outputs": [
    {
     "name": "stderr",
     "output_type": "stream",
     "text": [
      "C:\\Users\\ASUS\\Anaconda3\\lib\\site-packages\\numpy\\lib\\arraysetops.py:569: FutureWarning: elementwise comparison failed; returning scalar instead, but in the future will perform elementwise comparison\n",
      "  mask |= (ar1 == a)\n"
     ]
    }
   ],
   "source": [
    "# Open the data file\n",
    "trips = pd.read_csv(\"../data/trips.csv\", index_col=0)"
   ]
  },
  {
   "cell_type": "code",
   "execution_count": 3,
   "metadata": {},
   "outputs": [],
   "source": [
    "# Change type of start_time and end_date to datetime\n",
    "trips = trips.astype({\"start_date\": \"datetime64\"})\n",
    "trips = trips.astype({\"end_date\": \"datetime64\"})"
   ]
  },
  {
   "cell_type": "code",
   "execution_count": 4,
   "metadata": {},
   "outputs": [
    {
     "data": {
      "text/plain": [
       "duration                         int64\n",
       "start_date              datetime64[ns]\n",
       "end_date                datetime64[ns]\n",
       "start_station_number             int64\n",
       "start_station                   object\n",
       "end_station_number               int64\n",
       "end_station                     object\n",
       "bike_number                     object\n",
       "member_type                     object\n",
       "dtype: object"
      ]
     },
     "execution_count": 4,
     "metadata": {},
     "output_type": "execute_result"
    }
   ],
   "source": [
    "# Check the types of the trips dataframe\n",
    "trips.dtypes"
   ]
  },
  {
   "cell_type": "code",
   "execution_count": 9,
   "metadata": {},
   "outputs": [],
   "source": [
    "# Create new columns with the day of the week and the hour of the day using start_date.\n",
    "trips[\"start_day\"] = trips[\"start_date\"].dt.weekday_name"
   ]
  },
  {
   "cell_type": "code",
   "execution_count": 10,
   "metadata": {},
   "outputs": [],
   "source": [
    "trips[\"start_hour\"] = trips[\"start_date\"].dt.hour"
   ]
  },
  {
   "cell_type": "code",
   "execution_count": 11,
   "metadata": {},
   "outputs": [],
   "source": [
    "# Select the data specific to the bike station number 31245\n",
    "trips_31245 = trips[trips['start_station_number']==31245] "
   ]
  },
  {
   "cell_type": "code",
   "execution_count": 12,
   "metadata": {},
   "outputs": [
    {
     "data": {
      "text/html": [
       "<div>\n",
       "<style scoped>\n",
       "    .dataframe tbody tr th:only-of-type {\n",
       "        vertical-align: middle;\n",
       "    }\n",
       "\n",
       "    .dataframe tbody tr th {\n",
       "        vertical-align: top;\n",
       "    }\n",
       "\n",
       "    .dataframe thead th {\n",
       "        text-align: right;\n",
       "    }\n",
       "</style>\n",
       "<table border=\"1\" class=\"dataframe\">\n",
       "  <thead>\n",
       "    <tr style=\"text-align: right;\">\n",
       "      <th></th>\n",
       "      <th>duration</th>\n",
       "      <th>start_date</th>\n",
       "      <th>end_date</th>\n",
       "      <th>start_station_number</th>\n",
       "      <th>start_station</th>\n",
       "      <th>end_station_number</th>\n",
       "      <th>end_station</th>\n",
       "      <th>bike_number</th>\n",
       "      <th>member_type</th>\n",
       "      <th>start_day</th>\n",
       "      <th>start_hour</th>\n",
       "    </tr>\n",
       "  </thead>\n",
       "  <tbody>\n",
       "    <tr>\n",
       "      <th>132</th>\n",
       "      <td>594</td>\n",
       "      <td>2017-01-01 01:37:53</td>\n",
       "      <td>2017-01-01 01:47:47</td>\n",
       "      <td>31245</td>\n",
       "      <td>7th &amp; R St NW / Shaw Library</td>\n",
       "      <td>31600</td>\n",
       "      <td>5th &amp; K St NW</td>\n",
       "      <td>W22093</td>\n",
       "      <td>Member</td>\n",
       "      <td>Sunday</td>\n",
       "      <td>1</td>\n",
       "    </tr>\n",
       "    <tr>\n",
       "      <th>137</th>\n",
       "      <td>521</td>\n",
       "      <td>2017-01-01 01:42:59</td>\n",
       "      <td>2017-01-01 01:51:40</td>\n",
       "      <td>31245</td>\n",
       "      <td>7th &amp; R St NW / Shaw Library</td>\n",
       "      <td>31201</td>\n",
       "      <td>15th &amp; P St NW</td>\n",
       "      <td>W22403</td>\n",
       "      <td>Member</td>\n",
       "      <td>Sunday</td>\n",
       "      <td>1</td>\n",
       "    </tr>\n",
       "    <tr>\n",
       "      <th>142</th>\n",
       "      <td>373</td>\n",
       "      <td>2017-01-01 01:46:55</td>\n",
       "      <td>2017-01-01 01:53:08</td>\n",
       "      <td>31245</td>\n",
       "      <td>7th &amp; R St NW / Shaw Library</td>\n",
       "      <td>31214</td>\n",
       "      <td>17th &amp; Corcoran St NW</td>\n",
       "      <td>W01005</td>\n",
       "      <td>Member</td>\n",
       "      <td>Sunday</td>\n",
       "      <td>1</td>\n",
       "    </tr>\n",
       "    <tr>\n",
       "      <th>215</th>\n",
       "      <td>280</td>\n",
       "      <td>2017-01-01 02:58:05</td>\n",
       "      <td>2017-01-01 03:02:46</td>\n",
       "      <td>31245</td>\n",
       "      <td>7th &amp; R St NW / Shaw Library</td>\n",
       "      <td>31266</td>\n",
       "      <td>11th &amp; M St NW</td>\n",
       "      <td>W22523</td>\n",
       "      <td>Member</td>\n",
       "      <td>Sunday</td>\n",
       "      <td>2</td>\n",
       "    </tr>\n",
       "    <tr>\n",
       "      <th>239</th>\n",
       "      <td>493</td>\n",
       "      <td>2017-01-01 04:08:27</td>\n",
       "      <td>2017-01-01 04:16:40</td>\n",
       "      <td>31245</td>\n",
       "      <td>7th &amp; R St NW / Shaw Library</td>\n",
       "      <td>31102</td>\n",
       "      <td>11th &amp; Kenyon St NW</td>\n",
       "      <td>W00247</td>\n",
       "      <td>Member</td>\n",
       "      <td>Sunday</td>\n",
       "      <td>4</td>\n",
       "    </tr>\n",
       "  </tbody>\n",
       "</table>\n",
       "</div>"
      ],
      "text/plain": [
       "     duration          start_date            end_date  start_station_number  \\\n",
       "132       594 2017-01-01 01:37:53 2017-01-01 01:47:47                 31245   \n",
       "137       521 2017-01-01 01:42:59 2017-01-01 01:51:40                 31245   \n",
       "142       373 2017-01-01 01:46:55 2017-01-01 01:53:08                 31245   \n",
       "215       280 2017-01-01 02:58:05 2017-01-01 03:02:46                 31245   \n",
       "239       493 2017-01-01 04:08:27 2017-01-01 04:16:40                 31245   \n",
       "\n",
       "                    start_station  end_station_number            end_station  \\\n",
       "132  7th & R St NW / Shaw Library               31600          5th & K St NW   \n",
       "137  7th & R St NW / Shaw Library               31201         15th & P St NW   \n",
       "142  7th & R St NW / Shaw Library               31214  17th & Corcoran St NW   \n",
       "215  7th & R St NW / Shaw Library               31266         11th & M St NW   \n",
       "239  7th & R St NW / Shaw Library               31102    11th & Kenyon St NW   \n",
       "\n",
       "    bike_number member_type start_day  start_hour  \n",
       "132      W22093      Member    Sunday           1  \n",
       "137      W22403      Member    Sunday           1  \n",
       "142      W01005      Member    Sunday           1  \n",
       "215      W22523      Member    Sunday           2  \n",
       "239      W00247      Member    Sunday           4  "
      ]
     },
     "execution_count": 12,
     "metadata": {},
     "output_type": "execute_result"
    }
   ],
   "source": [
    "# Check the head of trips_31245\n",
    "trips_31245.head()"
   ]
  },
  {
   "cell_type": "code",
   "execution_count": 33,
   "metadata": {},
   "outputs": [],
   "source": [
    "# Select the only rows that are interesting for the analysis \n",
    "trips_31245 = trips_31245[[\"duration\", \"start_date\", \"start_station_number\", \"start_day\"]]"
   ]
  },
  {
   "cell_type": "code",
   "execution_count": 35,
   "metadata": {},
   "outputs": [],
   "source": [
    "# Convert the start_date column to a new column with the date and the hour (without minutes and second) as the prediction of use\n",
    "# will be done by hour\n",
    "trips_31245[\"start_date_hour\"] = trips_31245[\"start_date\"].apply(lambda x: x.strftime(\"%Y-%m-%d %H:00\"))"
   ]
  },
  {
   "cell_type": "code",
   "execution_count": 36,
   "metadata": {},
   "outputs": [
    {
     "data": {
      "text/html": [
       "<div>\n",
       "<style scoped>\n",
       "    .dataframe tbody tr th:only-of-type {\n",
       "        vertical-align: middle;\n",
       "    }\n",
       "\n",
       "    .dataframe tbody tr th {\n",
       "        vertical-align: top;\n",
       "    }\n",
       "\n",
       "    .dataframe thead th {\n",
       "        text-align: right;\n",
       "    }\n",
       "</style>\n",
       "<table border=\"1\" class=\"dataframe\">\n",
       "  <thead>\n",
       "    <tr style=\"text-align: right;\">\n",
       "      <th></th>\n",
       "      <th>duration</th>\n",
       "      <th>start_date</th>\n",
       "      <th>start_station_number</th>\n",
       "      <th>start_day</th>\n",
       "      <th>start_date_hour</th>\n",
       "    </tr>\n",
       "  </thead>\n",
       "  <tbody>\n",
       "    <tr>\n",
       "      <th>132</th>\n",
       "      <td>594</td>\n",
       "      <td>2017-01-01 01:37:53</td>\n",
       "      <td>31245</td>\n",
       "      <td>Sunday</td>\n",
       "      <td>2017-01-01 01:00</td>\n",
       "    </tr>\n",
       "    <tr>\n",
       "      <th>137</th>\n",
       "      <td>521</td>\n",
       "      <td>2017-01-01 01:42:59</td>\n",
       "      <td>31245</td>\n",
       "      <td>Sunday</td>\n",
       "      <td>2017-01-01 01:00</td>\n",
       "    </tr>\n",
       "    <tr>\n",
       "      <th>142</th>\n",
       "      <td>373</td>\n",
       "      <td>2017-01-01 01:46:55</td>\n",
       "      <td>31245</td>\n",
       "      <td>Sunday</td>\n",
       "      <td>2017-01-01 01:00</td>\n",
       "    </tr>\n",
       "    <tr>\n",
       "      <th>215</th>\n",
       "      <td>280</td>\n",
       "      <td>2017-01-01 02:58:05</td>\n",
       "      <td>31245</td>\n",
       "      <td>Sunday</td>\n",
       "      <td>2017-01-01 02:00</td>\n",
       "    </tr>\n",
       "    <tr>\n",
       "      <th>239</th>\n",
       "      <td>493</td>\n",
       "      <td>2017-01-01 04:08:27</td>\n",
       "      <td>31245</td>\n",
       "      <td>Sunday</td>\n",
       "      <td>2017-01-01 04:00</td>\n",
       "    </tr>\n",
       "  </tbody>\n",
       "</table>\n",
       "</div>"
      ],
      "text/plain": [
       "     duration          start_date  start_station_number start_day  \\\n",
       "132       594 2017-01-01 01:37:53                 31245    Sunday   \n",
       "137       521 2017-01-01 01:42:59                 31245    Sunday   \n",
       "142       373 2017-01-01 01:46:55                 31245    Sunday   \n",
       "215       280 2017-01-01 02:58:05                 31245    Sunday   \n",
       "239       493 2017-01-01 04:08:27                 31245    Sunday   \n",
       "\n",
       "      start_date_hour  \n",
       "132  2017-01-01 01:00  \n",
       "137  2017-01-01 01:00  \n",
       "142  2017-01-01 01:00  \n",
       "215  2017-01-01 02:00  \n",
       "239  2017-01-01 04:00  "
      ]
     },
     "execution_count": 36,
     "metadata": {},
     "output_type": "execute_result"
    }
   ],
   "source": [
    "trips_31245.head()"
   ]
  },
  {
   "cell_type": "code",
   "execution_count": 37,
   "metadata": {},
   "outputs": [],
   "source": [
    "# Change type of start_date_hour to datetime as it is a string.\n",
    "trips_31245 = trips_31245.astype({\"start_date_hour\": \"datetime64\"})"
   ]
  },
  {
   "cell_type": "code",
   "execution_count": 38,
   "metadata": {},
   "outputs": [
    {
     "data": {
      "text/plain": [
       "duration                         int64\n",
       "start_date              datetime64[ns]\n",
       "start_station_number             int64\n",
       "start_day                       object\n",
       "start_date_hour         datetime64[ns]\n",
       "dtype: object"
      ]
     },
     "execution_count": 38,
     "metadata": {},
     "output_type": "execute_result"
    }
   ],
   "source": [
    "# Check the types of the dataframe\n",
    "trips_31245.dtypes"
   ]
  },
  {
   "cell_type": "code",
   "execution_count": null,
   "metadata": {},
   "outputs": [],
   "source": []
  },
  {
   "cell_type": "code",
   "execution_count": null,
   "metadata": {},
   "outputs": [],
   "source": []
  }
 ],
 "metadata": {
  "kernelspec": {
   "display_name": "Python 3",
   "language": "python",
   "name": "python3"
  },
  "language_info": {
   "codemirror_mode": {
    "name": "ipython",
    "version": 3
   },
   "file_extension": ".py",
   "mimetype": "text/x-python",
   "name": "python",
   "nbconvert_exporter": "python",
   "pygments_lexer": "ipython3",
   "version": "3.7.3"
  }
 },
 "nbformat": 4,
 "nbformat_minor": 2
}
